{
  "nbformat": 4,
  "nbformat_minor": 0,
  "metadata": {
    "colab": {
      "name": "Blackjack_test.ipynb",
      "version": "0.3.2",
      "provenance": [],
      "private_outputs": true,
      "collapsed_sections": [],
      "include_colab_link": true
    },
    "kernelspec": {
      "name": "python3",
      "display_name": "Python 3"
    },
    "accelerator": "GPU"
  },
  "cells": [
    {
      "cell_type": "markdown",
      "metadata": {
        "id": "view-in-github",
        "colab_type": "text"
      },
      "source": [
        "<a href=\"https://colab.research.google.com/github/charleskang/rl/blob/master/Blackjack_test.ipynb\" target=\"_parent\"><img src=\"https://colab.research.google.com/assets/colab-badge.svg\" alt=\"Open In Colab\"/></a>"
      ]
    },
    {
      "cell_type": "markdown",
      "metadata": {
        "id": "odNaDE1zyrL2",
        "colab_type": "text"
      },
      "source": [
        "# install dependancies, takes around 45 seconds\n",
        "\n",
        "Rendering Dependancies\n",
        "\n"
      ]
    },
    {
      "cell_type": "markdown",
      "metadata": {
        "id": "q0jSnrBsXsmT",
        "colab_type": "text"
      },
      "source": [
        "https://github.com/harshitandro/OpenAI-Gym-BlackjackEnv/blob/master/Monte_Carlo/Monte_Carlo.ipynb"
      ]
    },
    {
      "cell_type": "code",
      "metadata": {
        "id": "8-AxnvAVyzQQ",
        "colab_type": "code",
        "colab": {}
      },
      "source": [
        "#remove \" > /dev/null 2>&1\" to see what is going on under the hood\n",
        "!pip install gym pyvirtualdisplay > /dev/null 2>&1\n",
        "!apt-get install -y xvfb python-opengl ffmpeg > /dev/null 2>&1"
      ],
      "execution_count": 0,
      "outputs": []
    },
    {
      "cell_type": "markdown",
      "metadata": {
        "id": "8A-1LTSH88EE",
        "colab_type": "text"
      },
      "source": [
        "Pacman Dependancies"
      ]
    },
    {
      "cell_type": "code",
      "metadata": {
        "id": "TCelFzWY9MBI",
        "colab_type": "code",
        "colab": {}
      },
      "source": [
        "!apt-get update > /dev/null 2>&1\n",
        "!apt-get install cmake > /dev/null 2>&1\n",
        "!pip install --upgrade setuptools 2>&1\n",
        "!pip install ez_setup > /dev/null 2>&1\n",
        "!pip install gym > /dev/null 2>&1"
      ],
      "execution_count": 0,
      "outputs": []
    },
    {
      "cell_type": "markdown",
      "metadata": {
        "id": "APXSx7hg19TH",
        "colab_type": "text"
      },
      "source": [
        "# Blackjack\n"
      ]
    },
    {
      "cell_type": "code",
      "metadata": {
        "id": "pdb2JwZy4jGj",
        "colab_type": "code",
        "colab": {}
      },
      "source": [
        "import gym\n",
        "env = gym.make('Blackjack-v0')"
      ],
      "execution_count": 0,
      "outputs": []
    },
    {
      "cell_type": "code",
      "metadata": {
        "id": "nQEtc28G4niA",
        "colab_type": "code",
        "colab": {}
      },
      "source": [
        "print(env.observation_space)\n",
        "print(env.action_space)"
      ],
      "execution_count": 0,
      "outputs": []
    },
    {
      "cell_type": "code",
      "metadata": {
        "id": "rxFFX_GxWB5g",
        "colab_type": "code",
        "colab": {}
      },
      "source": [
        "for i_episode in range(3):\n",
        "    state = env.reset()\n",
        "    while True:\n",
        "        print(state)\n",
        "        action = env.action_space.sample()\n",
        "        state, reward, done, info = env.step(action)\n",
        "        if done:\n",
        "            print('End game! Reward: ', reward)\n",
        "            print('You won :)\\n') if reward > 0 else print('You lost :(\\n')\n",
        "            break"
      ],
      "execution_count": 0,
      "outputs": []
    },
    {
      "cell_type": "code",
      "metadata": {
        "id": "wDlDrpsxWFNH",
        "colab_type": "code",
        "colab": {}
      },
      "source": [
        "def generate_episode_from_limit(bj_env):\n",
        "    episode = []\n",
        "    state = bj_env.reset()\n",
        "    while True:\n",
        "        action = 0 if state[0] > 18 else 1\n",
        "        next_state, reward, done, info = bj_env.step(action)\n",
        "        episode.append((state, action, reward))\n",
        "        state = next_state\n",
        "        if done:\n",
        "            break\n",
        "    return episode"
      ],
      "execution_count": 0,
      "outputs": []
    },
    {
      "cell_type": "code",
      "metadata": {
        "id": "qM_XuMtAWXei",
        "colab_type": "code",
        "colab": {}
      },
      "source": [
        "for i in range(3):\n",
        "    print(generate_episode_from_limit(env))"
      ],
      "execution_count": 0,
      "outputs": []
    },
    {
      "cell_type": "code",
      "metadata": {
        "id": "P-BvRcNIWae0",
        "colab_type": "code",
        "colab": {}
      },
      "source": [
        "from collections import defaultdict\n",
        "import numpy as np\n",
        "import sys\n",
        "\n",
        "def mc_prediction_v(env, num_episodes, generate_episode, gamma=1.0):\n",
        "    # initialize empty dictionary of lists\n",
        "    returns = defaultdict(list)\n",
        "    # loop over episodes\n",
        "    for i_episode in range(1, num_episodes+1):\n",
        "        # monitor progress\n",
        "        if i_episode % 1000 == 0:\n",
        "            print(\"\\rEpisode {}/{}.\".format(i_episode, num_episodes), end=\"\")\n",
        "            sys.stdout.flush()\n",
        "        # Generate episode\n",
        "        episode = generate_episode(env)\n",
        "        # extract states, actions & rewards\n",
        "        state_list, action_list, reward_list = zip(*episode)\n",
        "        # implement discount\n",
        "        discount = np.array([gamma**i for i in range(len(reward_list)+1)])\n",
        "        # calculate and store the return for each visit in the episode\n",
        "        for i,state in enumerate(state_list):\n",
        "            returns[state].append(sum(reward_list[i:]*discount[:-(i+1)]))\n",
        "    # calculate the state-value function estimate\n",
        "    V = {k: np.mean(v) for k, v in returns.items()}\n",
        "    return V"
      ],
      "execution_count": 0,
      "outputs": []
    },
    {
      "cell_type": "code",
      "metadata": {
        "id": "8lhOqLoqWdzY",
        "colab_type": "code",
        "colab": {}
      },
      "source": [
        "import numpy as np\n",
        "from mpl_toolkits.mplot3d import Axes3D\n",
        "import matplotlib.pyplot as plt\n",
        "from mpl_toolkits.axes_grid1 import make_axes_locatable\n",
        "\n",
        "def plot_blackjack_values(V):\n",
        "\n",
        "    def get_Z(x, y, usable_ace):\n",
        "        if (x,y,usable_ace) in V:\n",
        "            return V[x,y,usable_ace]\n",
        "        else:\n",
        "            return 0\n",
        "\n",
        "    def get_figure(usable_ace, ax):\n",
        "        x_range = np.arange(11, 22)\n",
        "        y_range = np.arange(1, 11)\n",
        "        X, Y = np.meshgrid(x_range, y_range)\n",
        "        \n",
        "        Z = np.array([get_Z(x,y,usable_ace) for x,y in zip(np.ravel(X), np.ravel(Y))]).reshape(X.shape)\n",
        "\n",
        "        surf = ax.plot_surface(X, Y, Z, rstride=1, cstride=1, cmap=plt.cm.coolwarm, vmin=-1.0, vmax=1.0)\n",
        "        ax.set_xlabel('Player\\'s Current Sum')\n",
        "        ax.set_ylabel('Dealer\\'s Showing Card')\n",
        "        ax.set_zlabel('State Value')\n",
        "        ax.view_init(ax.elev, -120)\n",
        "\n",
        "    fig = plt.figure(figsize=(20, 20))\n",
        "    ax = fig.add_subplot(211, projection='3d')\n",
        "    ax.set_title('Usable Ace')\n",
        "    get_figure(True, ax)\n",
        "    ax = fig.add_subplot(212, projection='3d')\n",
        "    ax.set_title('No Usable Ace')\n",
        "    get_figure(False, ax)\n",
        "    plt.show()\n",
        "\n",
        "def plot_policy(policy):\n",
        "\n",
        "    def get_Z(x, y, usable_ace):\n",
        "        if (x,y,usable_ace) in policy:\n",
        "            return policy[x,y,usable_ace]\n",
        "        else:\n",
        "            return 1\n",
        "\n",
        "    def get_figure(usable_ace, ax):\n",
        "        x_range = np.arange(11, 22)\n",
        "        y_range = np.arange(10, 0, -1)\n",
        "        X, Y = np.meshgrid(x_range, y_range)\n",
        "        Z = np.array([[get_Z(x,y,usable_ace) for x in x_range] for y in y_range])\n",
        "        surf = ax.imshow(Z, cmap=plt.get_cmap('Pastel2', 2), vmin=0, vmax=1, extent=[10.5, 21.5, 0.5, 10.5])\n",
        "        plt.xticks(x_range)\n",
        "        plt.yticks(y_range)\n",
        "        plt.gca().invert_yaxis()\n",
        "        ax.set_xlabel('Player\\'s Current Sum')\n",
        "        ax.set_ylabel('Dealer\\'s Showing Card')\n",
        "        ax.grid(color='w', linestyle='-', linewidth=1)\n",
        "        divider = make_axes_locatable(ax)\n",
        "        cax = divider.append_axes(\"right\", size=\"5%\", pad=0.1)\n",
        "        cbar = plt.colorbar(surf, ticks=[0,1], cax=cax)\n",
        "        cbar.ax.set_yticklabels(['0 (STICK)','1 (HIT)'])\n",
        "            \n",
        "    fig = plt.figure(figsize=(15, 15))\n",
        "    ax = fig.add_subplot(121)\n",
        "    ax.set_title('Usable Ace')\n",
        "    get_figure(True, ax)\n",
        "    ax = fig.add_subplot(122)\n",
        "    ax.set_title('No Usable Ace')\n",
        "    get_figure(False, ax)\n",
        "    plt.show()"
      ],
      "execution_count": 0,
      "outputs": []
    },
    {
      "cell_type": "code",
      "metadata": {
        "id": "VLa0XKl0WinS",
        "colab_type": "code",
        "colab": {}
      },
      "source": [
        "# obtain the value function\n",
        "V = mc_prediction_v(env, 500000, generate_episode_from_limit)\n",
        "\n",
        "# plot the value function\n",
        "plot_blackjack_values(V)"
      ],
      "execution_count": 0,
      "outputs": []
    },
    {
      "cell_type": "code",
      "metadata": {
        "id": "CP012X_vW887",
        "colab_type": "code",
        "colab": {}
      },
      "source": [
        ""
      ],
      "execution_count": 0,
      "outputs": []
    }
  ]
}